{
 "cells": [
  {
   "cell_type": "code",
   "execution_count": 7,
   "id": "6887735e-0a93-4aab-88ad-2ddd30695416",
   "metadata": {},
   "outputs": [],
   "source": [
    "import geopandas as gpd\n",
    "import pandas as pd\n",
    "import json\n",
    "from shapely.geometry import shape"
   ]
  },
  {
   "cell_type": "code",
   "execution_count": 17,
   "id": "1d73f38e-dd4a-4872-96c0-3ba24d81ca69",
   "metadata": {},
   "outputs": [],
   "source": [
    "# Load the CSV\n",
    "df = pd.read_csv('/home/yuna/github/CyclingVSPollution/data/london_NO2_borough.csv')"
   ]
  },
  {
   "cell_type": "code",
   "execution_count": 18,
   "id": "6fca5019-582b-4e4a-a4b8-de6d5fdd4d4a",
   "metadata": {},
   "outputs": [],
   "source": [
    "# Inspect a sample of the geometry column\n",
    "df['geometry'] = df['geometry'].apply(lambda x: x.replace(\"'\", \"\\\"\"))"
   ]
  },
  {
   "cell_type": "code",
   "execution_count": 19,
   "id": "33bdcad4-b227-4895-81aa-2cc70a6556fb",
   "metadata": {},
   "outputs": [],
   "source": [
    "# Try parsing the corrected JSON and converting to geometries\n",
    "try:\n",
    "    df['geometry'] = df['geometry'].apply(json.loads)\n",
    "    df['geometry'] = df['geometry'].apply(shape)\n",
    "\n",
    "    # Convert to GeoDataFrame\n",
    "    gdf = gpd.GeoDataFrame(df, geometry='geometry', crs=\"EPSG:4326\")\n",
    "    gdf.head()\n",
    "\n",
    "except Exception as e:\n",
    "    str(e)"
   ]
  },
  {
   "cell_type": "code",
   "execution_count": 20,
   "id": "8686ed9a-85a0-4fab-89c8-07f85b44fbdd",
   "metadata": {},
   "outputs": [],
   "source": [
    "# Save to GeoJSON\n",
    "gdf.to_file('london_NO2.geojson', driver='GeoJSON')"
   ]
  },
  {
   "cell_type": "code",
   "execution_count": null,
   "id": "07ef8391-6cfe-4878-90b6-58ec726481ff",
   "metadata": {},
   "outputs": [],
   "source": []
  }
 ],
 "metadata": {
  "kernelspec": {
   "display_name": "Python 3 (ipykernel)",
   "language": "python",
   "name": "python3"
  },
  "language_info": {
   "codemirror_mode": {
    "name": "ipython",
    "version": 3
   },
   "file_extension": ".py",
   "mimetype": "text/x-python",
   "name": "python",
   "nbconvert_exporter": "python",
   "pygments_lexer": "ipython3",
   "version": "3.12.3"
  }
 },
 "nbformat": 4,
 "nbformat_minor": 5
}
