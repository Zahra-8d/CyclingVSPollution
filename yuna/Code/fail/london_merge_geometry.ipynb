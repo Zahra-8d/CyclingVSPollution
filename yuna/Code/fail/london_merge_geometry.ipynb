{
 "cells": [
  {
   "cell_type": "code",
   "execution_count": 11,
   "id": "2abc95f5-bbc7-4342-9374-d67d52424de0",
   "metadata": {
    "scrolled": true
   },
   "outputs": [
    {
     "name": "stdout",
     "output_type": "stream",
     "text": [
      "Requirement already satisfied: geopandas in /home/yuna/github/CyclingVSPollution/yuna/jupyter_env/lib/python3.12/site-packages (1.0.1)\n",
      "Requirement already satisfied: pandas in /home/yuna/github/CyclingVSPollution/yuna/jupyter_env/lib/python3.12/site-packages (2.2.3)\n",
      "Requirement already satisfied: openpyxl in /home/yuna/github/CyclingVSPollution/yuna/jupyter_env/lib/python3.12/site-packages (3.1.5)\n",
      "Requirement already satisfied: numpy>=1.22 in /home/yuna/github/CyclingVSPollution/yuna/jupyter_env/lib/python3.12/site-packages (from geopandas) (2.2.2)\n",
      "Requirement already satisfied: pyogrio>=0.7.2 in /home/yuna/github/CyclingVSPollution/yuna/jupyter_env/lib/python3.12/site-packages (from geopandas) (0.10.0)\n",
      "Requirement already satisfied: packaging in /home/yuna/github/CyclingVSPollution/yuna/jupyter_env/lib/python3.12/site-packages (from geopandas) (24.2)\n",
      "Requirement already satisfied: pyproj>=3.3.0 in /home/yuna/github/CyclingVSPollution/yuna/jupyter_env/lib/python3.12/site-packages (from geopandas) (3.7.0)\n",
      "Requirement already satisfied: shapely>=2.0.0 in /home/yuna/github/CyclingVSPollution/yuna/jupyter_env/lib/python3.12/site-packages (from geopandas) (2.0.6)\n",
      "Requirement already satisfied: python-dateutil>=2.8.2 in /home/yuna/github/CyclingVSPollution/yuna/jupyter_env/lib/python3.12/site-packages (from pandas) (2.9.0.post0)\n",
      "Requirement already satisfied: pytz>=2020.1 in /home/yuna/github/CyclingVSPollution/yuna/jupyter_env/lib/python3.12/site-packages (from pandas) (2024.2)\n",
      "Requirement already satisfied: tzdata>=2022.7 in /home/yuna/github/CyclingVSPollution/yuna/jupyter_env/lib/python3.12/site-packages (from pandas) (2025.1)\n",
      "Requirement already satisfied: et-xmlfile in /home/yuna/github/CyclingVSPollution/yuna/jupyter_env/lib/python3.12/site-packages (from openpyxl) (2.0.0)\n",
      "Requirement already satisfied: certifi in /home/yuna/github/CyclingVSPollution/yuna/jupyter_env/lib/python3.12/site-packages (from pyogrio>=0.7.2->geopandas) (2024.12.14)\n",
      "Requirement already satisfied: six>=1.5 in /home/yuna/github/CyclingVSPollution/yuna/jupyter_env/lib/python3.12/site-packages (from python-dateutil>=2.8.2->pandas) (1.17.0)\n"
     ]
    }
   ],
   "source": [
    "!pip install geopandas pandas openpyxl"
   ]
  },
  {
   "cell_type": "code",
   "execution_count": 22,
   "id": "ff68191e-48d3-4541-86b2-4b4e67f39bbc",
   "metadata": {},
   "outputs": [
    {
     "name": "stdout",
     "output_type": "stream",
     "text": [
      "Collecting fuzzywuzzy\n",
      "  Downloading fuzzywuzzy-0.18.0-py2.py3-none-any.whl.metadata (4.9 kB)\n",
      "Downloading fuzzywuzzy-0.18.0-py2.py3-none-any.whl (18 kB)\n",
      "Installing collected packages: fuzzywuzzy\n",
      "Successfully installed fuzzywuzzy-0.18.0\n"
     ]
    }
   ],
   "source": [
    "!pip install fuzzywuzzy"
   ]
  },
  {
   "cell_type": "code",
   "execution_count": 23,
   "id": "c7f289d8-5381-483d-ad88-6321f2a57ec7",
   "metadata": {},
   "outputs": [
    {
     "name": "stderr",
     "output_type": "stream",
     "text": [
      "/home/yuna/github/CyclingVSPollution/yuna/jupyter_env/lib/python3.12/site-packages/fuzzywuzzy/fuzz.py:11: UserWarning: Using slow pure-python SequenceMatcher. Install python-Levenshtein to remove this warning\n",
      "  warnings.warn('Using slow pure-python SequenceMatcher. Install python-Levenshtein to remove this warning')\n"
     ]
    }
   ],
   "source": [
    "from fuzzywuzzy import process"
   ]
  },
  {
   "cell_type": "code",
   "execution_count": 12,
   "id": "a3c7c0a5-1088-4dd3-98cd-11cee7db8ca1",
   "metadata": {},
   "outputs": [],
   "source": [
    "import geopandas as gpd\n",
    "import pandas as pd"
   ]
  },
  {
   "cell_type": "code",
   "execution_count": 13,
   "id": "e565e6da-4fb0-48bf-87de-900c64d9acc9",
   "metadata": {},
   "outputs": [],
   "source": [
    "# Define file paths\n",
    "geojson_path = '/home/yuna/github/CyclingVSPollution/yuna/project_data/london_boroughs.geojson'  \n",
    "excel_path = '/home/yuna/github/CyclingVSPollution/yuna/project_data/London_NO2_2023.xlsx'       "
   ]
  },
  {
   "cell_type": "code",
   "execution_count": 19,
   "id": "f4d716e1-b679-4153-adcf-9503197d1940",
   "metadata": {
    "scrolled": true
   },
   "outputs": [
    {
     "name": "stderr",
     "output_type": "stream",
     "text": [
      "/home/yuna/github/CyclingVSPollution/yuna/jupyter_env/lib/python3.12/site-packages/pyogrio/raw.py:198: RuntimeWarning: driver GeoJSON does not support open option DRIVER\n",
      "  return ogr_read(\n"
     ]
    }
   ],
   "source": [
    "# Load GeoJSON data without geometry to avoid issues\n",
    "geojson_data = gpd.read_file(geojson_path, driver=\"GeoJSON\", ignore_geometry=True)"
   ]
  },
  {
   "cell_type": "code",
   "execution_count": 15,
   "id": "bfada3da-354d-4830-adca-657cf65482a0",
   "metadata": {},
   "outputs": [],
   "source": [
    "# Load Excel data\n",
    "df = pd.read_excel(excel_path)"
   ]
  },
  {
   "cell_type": "code",
   "execution_count": 28,
   "id": "aeb8e7b5-f3db-4174-9270-677825a44b6d",
   "metadata": {},
   "outputs": [
    {
     "data": {
      "text/plain": [
       "['Barking and Dagenham',\n",
       " 'Barnet',\n",
       " 'Bexley',\n",
       " 'Brent',\n",
       " 'Bromley',\n",
       " 'Camden',\n",
       " 'City of London',\n",
       " 'Croydon',\n",
       " 'Ealing',\n",
       " 'Enfield',\n",
       " 'Greenwich',\n",
       " 'Hackney',\n",
       " 'Hammersmith and Fulham',\n",
       " 'Haringey',\n",
       " 'Harrow',\n",
       " 'Havering',\n",
       " 'Hillingdon',\n",
       " 'Hounslow',\n",
       " 'Islington',\n",
       " 'Kensington and Chelsea',\n",
       " 'Kingston upon Thames',\n",
       " 'Lambeth',\n",
       " 'Lewisham',\n",
       " 'Merton',\n",
       " 'Newham',\n",
       " 'Redbridge',\n",
       " 'Richmond upon Thames',\n",
       " 'Southwark',\n",
       " 'Sutton',\n",
       " 'Tower Hamlets',\n",
       " 'Waltham Forest',\n",
       " 'Wandsworth',\n",
       " 'Westminster']"
      ]
     },
     "execution_count": 28,
     "metadata": {},
     "output_type": "execute_result"
    }
   ],
   "source": [
    "# Get unique borough names from GeoJSON\n",
    "geojson_boroughs = geojson_data['name'].tolist()\n",
    "geojson_boroughs"
   ]
  },
  {
   "cell_type": "code",
   "execution_count": 20,
   "id": "a68d0583-720f-45a7-a970-c446cb4a9604",
   "metadata": {},
   "outputs": [],
   "source": [
    "# Function to find the best match for each borough in the Excel data\n",
    "def match_borough(borough_name, choices):\n",
    "    best_match, score = process.extractOne(borough_name, choices)\n",
    "    return best_match if score > 80 else None  # Use a threshold for accuracy"
   ]
  },
  {
   "cell_type": "code",
   "execution_count": 24,
   "id": "cd0e774c-afe2-42ff-b421-c0dd4eac11e6",
   "metadata": {},
   "outputs": [
    {
     "data": {
      "text/html": [
       "<div>\n",
       "<style scoped>\n",
       "    .dataframe tbody tr th:only-of-type {\n",
       "        vertical-align: middle;\n",
       "    }\n",
       "\n",
       "    .dataframe tbody tr th {\n",
       "        vertical-align: top;\n",
       "    }\n",
       "\n",
       "    .dataframe thead th {\n",
       "        text-align: right;\n",
       "    }\n",
       "</style>\n",
       "<table border=\"1\" class=\"dataframe\">\n",
       "  <thead>\n",
       "    <tr style=\"text-align: right;\">\n",
       "      <th></th>\n",
       "      <th>Borough</th>\n",
       "      <th>Number of sites</th>\n",
       "      <th>Exceeding legal limit</th>\n",
       "      <th>Percent exceeding legal limit</th>\n",
       "      <th>Exceeding WHO</th>\n",
       "      <th>Percent exceeding WHO</th>\n",
       "      <th>Average concentration roadside*</th>\n",
       "      <th>Average concentration background**</th>\n",
       "      <th>Unnamed: 8</th>\n",
       "      <th>Unnamed: 9</th>\n",
       "      <th>borough_name</th>\n",
       "    </tr>\n",
       "  </thead>\n",
       "  <tbody>\n",
       "    <tr>\n",
       "      <th>0</th>\n",
       "      <td>Corporation City of London</td>\n",
       "      <td>86</td>\n",
       "      <td>5.0</td>\n",
       "      <td>5.8</td>\n",
       "      <td>86.0</td>\n",
       "      <td>100.0</td>\n",
       "      <td>32.2</td>\n",
       "      <td>25.1</td>\n",
       "      <td>NaN</td>\n",
       "      <td>* includes Kerbside</td>\n",
       "      <td>City of London</td>\n",
       "    </tr>\n",
       "    <tr>\n",
       "      <th>1</th>\n",
       "      <td>LB Barking and Dagenham</td>\n",
       "      <td>50</td>\n",
       "      <td>0.0</td>\n",
       "      <td>0.0</td>\n",
       "      <td>50.0</td>\n",
       "      <td>100.0</td>\n",
       "      <td>26.6</td>\n",
       "      <td>17.9</td>\n",
       "      <td>NaN</td>\n",
       "      <td>**includes Urban Centre</td>\n",
       "      <td>Barking and Dagenham</td>\n",
       "    </tr>\n",
       "    <tr>\n",
       "      <th>2</th>\n",
       "      <td>LB Barnet</td>\n",
       "      <td>0</td>\n",
       "      <td>NaN</td>\n",
       "      <td>NaN</td>\n",
       "      <td>NaN</td>\n",
       "      <td>NaN</td>\n",
       "      <td>NaN</td>\n",
       "      <td>NaN</td>\n",
       "      <td>NaN</td>\n",
       "      <td>NaN</td>\n",
       "      <td>Barnet</td>\n",
       "    </tr>\n",
       "    <tr>\n",
       "      <th>3</th>\n",
       "      <td>LB Bexley</td>\n",
       "      <td>0</td>\n",
       "      <td>NaN</td>\n",
       "      <td>NaN</td>\n",
       "      <td>NaN</td>\n",
       "      <td>NaN</td>\n",
       "      <td>NaN</td>\n",
       "      <td>NaN</td>\n",
       "      <td>NaN</td>\n",
       "      <td>NaN</td>\n",
       "      <td>Bexley</td>\n",
       "    </tr>\n",
       "    <tr>\n",
       "      <th>4</th>\n",
       "      <td>LB Brent</td>\n",
       "      <td>127</td>\n",
       "      <td>2.0</td>\n",
       "      <td>1.6</td>\n",
       "      <td>127.0</td>\n",
       "      <td>100.0</td>\n",
       "      <td>22.5</td>\n",
       "      <td>19.0</td>\n",
       "      <td>NaN</td>\n",
       "      <td>NaN</td>\n",
       "      <td>Brent</td>\n",
       "    </tr>\n",
       "  </tbody>\n",
       "</table>\n",
       "</div>"
      ],
      "text/plain": [
       "                      Borough  Number of sites  Exceeding legal limit  \\\n",
       "0  Corporation City of London               86                    5.0   \n",
       "1     LB Barking and Dagenham               50                    0.0   \n",
       "2                   LB Barnet                0                    NaN   \n",
       "3                   LB Bexley                0                    NaN   \n",
       "4                    LB Brent              127                    2.0   \n",
       "\n",
       "   Percent exceeding legal limit  Exceeding WHO  Percent exceeding WHO  \\\n",
       "0                            5.8           86.0                  100.0   \n",
       "1                            0.0           50.0                  100.0   \n",
       "2                            NaN            NaN                    NaN   \n",
       "3                            NaN            NaN                    NaN   \n",
       "4                            1.6          127.0                  100.0   \n",
       "\n",
       "   Average concentration roadside*  Average concentration background**  \\\n",
       "0                             32.2                                25.1   \n",
       "1                             26.6                                17.9   \n",
       "2                              NaN                                 NaN   \n",
       "3                              NaN                                 NaN   \n",
       "4                             22.5                                19.0   \n",
       "\n",
       "   Unnamed: 8               Unnamed: 9          borough_name  \n",
       "0         NaN      * includes Kerbside        City of London  \n",
       "1         NaN  **includes Urban Centre  Barking and Dagenham  \n",
       "2         NaN                      NaN                Barnet  \n",
       "3         NaN                      NaN                Bexley  \n",
       "4         NaN                      NaN                 Brent  "
      ]
     },
     "execution_count": 24,
     "metadata": {},
     "output_type": "execute_result"
    }
   ],
   "source": [
    "# Apply fuzzy matching to find borough names\n",
    "df['borough_name'] = df['Borough'].apply(lambda x: match_borough(x, geojson_boroughs))"
   ]
  },
  {
   "cell_type": "code",
   "execution_count": 38,
   "id": "21d7fa51-4034-4925-80af-6778392b56c8",
   "metadata": {},
   "outputs": [
    {
     "data": {
      "text/html": [
       "<div>\n",
       "<style scoped>\n",
       "    .dataframe tbody tr th:only-of-type {\n",
       "        vertical-align: middle;\n",
       "    }\n",
       "\n",
       "    .dataframe tbody tr th {\n",
       "        vertical-align: top;\n",
       "    }\n",
       "\n",
       "    .dataframe thead th {\n",
       "        text-align: right;\n",
       "    }\n",
       "</style>\n",
       "<table border=\"1\" class=\"dataframe\">\n",
       "  <thead>\n",
       "    <tr style=\"text-align: right;\">\n",
       "      <th></th>\n",
       "      <th>Borough</th>\n",
       "      <th>Number of sites</th>\n",
       "      <th>Exceeding legal limit</th>\n",
       "      <th>Percent exceeding legal limit</th>\n",
       "      <th>Exceeding WHO</th>\n",
       "      <th>Percent exceeding WHO</th>\n",
       "      <th>Average concentration roadside*</th>\n",
       "      <th>Average concentration background**</th>\n",
       "      <th>Unnamed: 8</th>\n",
       "      <th>Unnamed: 9</th>\n",
       "      <th>borough_name</th>\n",
       "    </tr>\n",
       "  </thead>\n",
       "  <tbody>\n",
       "    <tr>\n",
       "      <th>27</th>\n",
       "      <td>LB Waltham</td>\n",
       "      <td>55</td>\n",
       "      <td>0.0</td>\n",
       "      <td>0.0</td>\n",
       "      <td>55.0</td>\n",
       "      <td>100.0</td>\n",
       "      <td>24.1</td>\n",
       "      <td>NaN</td>\n",
       "      <td>NaN</td>\n",
       "      <td>NaN</td>\n",
       "      <td>Waltham Forest</td>\n",
       "    </tr>\n",
       "  </tbody>\n",
       "</table>\n",
       "</div>"
      ],
      "text/plain": [
       "       Borough  Number of sites  Exceeding legal limit  \\\n",
       "27  LB Waltham               55                    0.0   \n",
       "\n",
       "    Percent exceeding legal limit  Exceeding WHO  Percent exceeding WHO  \\\n",
       "27                            0.0           55.0                  100.0   \n",
       "\n",
       "    Average concentration roadside*  Average concentration background**  \\\n",
       "27                             24.1                                 NaN   \n",
       "\n",
       "    Unnamed: 8 Unnamed: 9    borough_name  \n",
       "27         NaN        NaN  Waltham Forest  "
      ]
     },
     "execution_count": 38,
     "metadata": {},
     "output_type": "execute_result"
    }
   ],
   "source": [
    "df.loc[df['Borough'].str.contains('Waltham', case=False, na=False), 'borough_name'] = 'Waltham Forest'\n",
    "df[df['Borough'] == 'LB Waltham']"
   ]
  },
  {
   "cell_type": "code",
   "execution_count": 39,
   "id": "6325f749-7fd7-4cb6-9452-25eedf810ff8",
   "metadata": {},
   "outputs": [],
   "source": [
    "csv_output_path = 'london_with_borough_name.csv'\n",
    "df.to_csv(csv_output_path, index=False)"
   ]
  },
  {
   "cell_type": "code",
   "execution_count": 25,
   "id": "b55629b9-3c99-48e9-9ff4-8549bec1ff0c",
   "metadata": {},
   "outputs": [
    {
     "name": "stdout",
     "output_type": "stream",
     "text": [
      "GeoJSON Columns: Index(['name', 'color'], dtype='object')\n",
      "Excel Columns: Index(['Borough', 'Number of sites', 'Exceeding legal limit',\n",
      "       'Percent exceeding legal limit', 'Exceeding WHO',\n",
      "       'Percent exceeding WHO', 'Average concentration roadside*',\n",
      "       'Average concentration background**', 'Unnamed: 8', 'Unnamed: 9',\n",
      "       'borough_name'],\n",
      "      dtype='object')\n"
     ]
    }
   ],
   "source": [
    "# Inspect columns to find common keys\n",
    "print(\"GeoJSON Columns:\", geojson_data.columns)\n",
    "print(\"Excel Columns:\", df.columns)"
   ]
  },
  {
   "cell_type": "code",
   "execution_count": 26,
   "id": "1d30824f-1034-478a-bbbb-926b83221215",
   "metadata": {},
   "outputs": [
    {
     "data": {
      "text/html": [
       "<div>\n",
       "<style scoped>\n",
       "    .dataframe tbody tr th:only-of-type {\n",
       "        vertical-align: middle;\n",
       "    }\n",
       "\n",
       "    .dataframe tbody tr th {\n",
       "        vertical-align: top;\n",
       "    }\n",
       "\n",
       "    .dataframe thead th {\n",
       "        text-align: right;\n",
       "    }\n",
       "</style>\n",
       "<table border=\"1\" class=\"dataframe\">\n",
       "  <thead>\n",
       "    <tr style=\"text-align: right;\">\n",
       "      <th></th>\n",
       "      <th>name</th>\n",
       "      <th>color</th>\n",
       "      <th>Borough</th>\n",
       "      <th>Number of sites</th>\n",
       "      <th>Exceeding legal limit</th>\n",
       "      <th>Percent exceeding legal limit</th>\n",
       "      <th>Exceeding WHO</th>\n",
       "      <th>Percent exceeding WHO</th>\n",
       "      <th>Average concentration roadside*</th>\n",
       "      <th>Average concentration background**</th>\n",
       "      <th>Unnamed: 8</th>\n",
       "      <th>Unnamed: 9</th>\n",
       "      <th>borough_name</th>\n",
       "    </tr>\n",
       "  </thead>\n",
       "  <tbody>\n",
       "  </tbody>\n",
       "</table>\n",
       "</div>"
      ],
      "text/plain": [
       "Empty DataFrame\n",
       "Columns: [name, color, Borough, Number of sites, Exceeding legal limit, Percent exceeding legal limit, Exceeding WHO, Percent exceeding WHO, Average concentration roadside*, Average concentration background**, Unnamed: 8, Unnamed: 9, borough_name]\n",
       "Index: []"
      ]
     },
     "execution_count": 26,
     "metadata": {},
     "output_type": "execute_result"
    }
   ],
   "source": [
    "# Merge the data using the common key (name and Borough)\n",
    "merged_df = geojson_data.merge(df, left_on='name', right_on='Borough', how='inner')\n",
    "merged_df"
   ]
  },
  {
   "cell_type": "code",
   "execution_count": 7,
   "id": "5ed79e4e-b924-4a78-a3d8-f2f83dac102f",
   "metadata": {},
   "outputs": [],
   "source": [
    "# Save the merged result as CSV\n",
    "csv_output_path = 'merged_data.csv'\n",
    "merged_df.to_csv(csv_output_path, index=False)"
   ]
  },
  {
   "cell_type": "code",
   "execution_count": 8,
   "id": "917b9d1a-345d-4605-be0a-37de6bded5fc",
   "metadata": {},
   "outputs": [
    {
     "name": "stdout",
     "output_type": "stream",
     "text": [
      "Merged data has been saved to merged_data.csv\n"
     ]
    }
   ],
   "source": [
    "print(f\"Merged data has been saved to {csv_output_path}\")"
   ]
  },
  {
   "cell_type": "code",
   "execution_count": null,
   "id": "837b6b73-a0d9-404f-93c9-b221c9559299",
   "metadata": {},
   "outputs": [],
   "source": []
  }
 ],
 "metadata": {
  "kernelspec": {
   "display_name": "Python 3 (ipykernel)",
   "language": "python",
   "name": "python3"
  },
  "language_info": {
   "codemirror_mode": {
    "name": "ipython",
    "version": 3
   },
   "file_extension": ".py",
   "mimetype": "text/x-python",
   "name": "python",
   "nbconvert_exporter": "python",
   "pygments_lexer": "ipython3",
   "version": "3.12.3"
  }
 },
 "nbformat": 4,
 "nbformat_minor": 5
}
