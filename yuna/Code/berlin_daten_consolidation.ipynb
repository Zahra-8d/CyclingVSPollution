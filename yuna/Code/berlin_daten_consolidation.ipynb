{
 "cells": [
  {
   "cell_type": "code",
   "execution_count": 1,
   "id": "bf31bba9-1124-4b52-af78-4382fd7a265d",
   "metadata": {},
   "outputs": [],
   "source": [
    "#!pip install pandas"
   ]
  },
  {
   "cell_type": "code",
   "execution_count": 2,
   "id": "f1e81085-d41c-423b-aa13-c131e76b578e",
   "metadata": {},
   "outputs": [],
   "source": [
    "import os\n",
    "import pandas as pd"
   ]
  },
  {
   "cell_type": "code",
   "execution_count": 3,
   "id": "523bf1b2-8708-4848-a64a-d80b757a5170",
   "metadata": {},
   "outputs": [],
   "source": [
    "# Define the folder containing the CSV files\n",
    "folder_path = '/home/yuna/github/CyclingVSPollution/yuna/project_data/berlin'  # Replace with the actual folder path"
   ]
  },
  {
   "cell_type": "code",
   "execution_count": 4,
   "id": "7de6f432-d6db-4bef-99ba-81a7e8a74bb4",
   "metadata": {},
   "outputs": [
    {
     "ename": "FileNotFoundError",
     "evalue": "[Errno 2] No such file or directory: '/home/yuna/Documents/Spatial Database/Assignment/project_data/berlin'",
     "output_type": "error",
     "traceback": [
      "\u001b[0;31m---------------------------------------------------------------------------\u001b[0m",
      "\u001b[0;31mFileNotFoundError\u001b[0m                         Traceback (most recent call last)",
      "Cell \u001b[0;32mIn[4], line 5\u001b[0m\n\u001b[1;32m      2\u001b[0m consolidated_data \u001b[38;5;241m=\u001b[39m []\n\u001b[1;32m      4\u001b[0m \u001b[38;5;66;03m# Loop through all files in the folder\u001b[39;00m\n\u001b[0;32m----> 5\u001b[0m \u001b[38;5;28;01mfor\u001b[39;00m file_name \u001b[38;5;129;01min\u001b[39;00m \u001b[43mos\u001b[49m\u001b[38;5;241;43m.\u001b[39;49m\u001b[43mlistdir\u001b[49m\u001b[43m(\u001b[49m\u001b[43mfolder_path\u001b[49m\u001b[43m)\u001b[49m:\n\u001b[1;32m      6\u001b[0m     \u001b[38;5;66;03m# Exclude lock files and ensure the file ends with .csv\u001b[39;00m\n\u001b[1;32m      7\u001b[0m     \u001b[38;5;28;01mif\u001b[39;00m file_name\u001b[38;5;241m.\u001b[39mendswith(\u001b[38;5;124m'\u001b[39m\u001b[38;5;124m.csv\u001b[39m\u001b[38;5;124m'\u001b[39m) \u001b[38;5;129;01mand\u001b[39;00m \u001b[38;5;129;01mnot\u001b[39;00m file_name\u001b[38;5;241m.\u001b[39mstartswith(\u001b[38;5;124m'\u001b[39m\u001b[38;5;124m.~lock.\u001b[39m\u001b[38;5;124m'\u001b[39m):\n\u001b[1;32m      8\u001b[0m         file_path \u001b[38;5;241m=\u001b[39m os\u001b[38;5;241m.\u001b[39mpath\u001b[38;5;241m.\u001b[39mjoin(folder_path, file_name)\n",
      "\u001b[0;31mFileNotFoundError\u001b[0m: [Errno 2] No such file or directory: '/home/yuna/Documents/Spatial Database/Assignment/project_data/berlin'"
     ]
    }
   ],
   "source": [
    "# Initialize an empty list to store data from each file\n",
    "consolidated_data = []\n",
    "\n",
    "# Loop through all files in the folder\n",
    "for file_name in os.listdir(folder_path):\n",
    "    # Exclude lock files and ensure the file ends with .csv\n",
    "    if file_name.endswith('.csv') and not file_name.startswith('.~lock.'):\n",
    "        file_path = os.path.join(folder_path, file_name)\n",
    "        print(file_name)\n",
    "        \n",
    "        # Read the CSV file with semicolon delimiter\n",
    "        df = pd.read_csv(file_path, delimiter=';', header=None)\n",
    "        \n",
    "        # Extract the required columns\n",
    "        station = df.iloc[0, 1]  # 'Station' information [row, column]\n",
    "        \n",
    "        # Find the column containing 'Stickstoffmonoxid'\n",
    "        # !!!why is mc221 returning column 4??? It should be column 5....!!!!!!\n",
    "        no2_avg = None\n",
    "        for col in df.columns:\n",
    "            if df.iloc[1, col] == 'Stickstoffdioxid':  # Assuming the label is in the second row\n",
    "                col += 1 # +1 to get correct index\n",
    "                print(f\"'Stickstoffdioxid' found in column: {col}\")\n",
    "                no2_avg = df.iloc[4, col]  # Extract the value from the 5th row (index 4)\n",
    "                print(f\"Value extracted: {no2_avg}\")\n",
    "                break\n",
    "        \n",
    "        # Append the extracted data to the list\n",
    "        if no2_avg is not None:\n",
    "            consolidated_data.append({\n",
    "                'Station': station,\n",
    "                'NO2 Average concentration (µg/m³)': no2_avg\n",
    "            })"
   ]
  },
  {
   "cell_type": "code",
   "execution_count": null,
   "id": "235cd139-48fc-479d-b237-18e9eae71534",
   "metadata": {},
   "outputs": [],
   "source": [
    "# Save the consolidated data to a new CSV file\n",
    "output_file = 'berlin_NO2_per_station.csv'\n",
    "consolidated_df.to_csv(output_file, index=False)"
   ]
  },
  {
   "cell_type": "code",
   "execution_count": null,
   "id": "b228a37c-56cc-40ac-b8c8-76354aa440f3",
   "metadata": {},
   "outputs": [],
   "source": [
    "print(f\"Consolidated data has been saved to {output_file}\")"
   ]
  },
  {
   "cell_type": "code",
   "execution_count": null,
   "id": "4d604e39-bb41-429e-9342-313050ee09f8",
   "metadata": {},
   "outputs": [],
   "source": [
    "print(f\"Full path to the saved file: {os.path.abspath(output_file)}\")"
   ]
  },
  {
   "cell_type": "code",
   "execution_count": null,
   "id": "43b9bef4-a2e8-4b55-841f-3c1989c8e863",
   "metadata": {},
   "outputs": [],
   "source": [
    "# berlin data source: https://luftdaten.berlin.de/lqi"
   ]
  }
 ],
 "metadata": {
  "kernelspec": {
   "display_name": "Python 3 (ipykernel)",
   "language": "python",
   "name": "python3"
  },
  "language_info": {
   "codemirror_mode": {
    "name": "ipython",
    "version": 3
   },
   "file_extension": ".py",
   "mimetype": "text/x-python",
   "name": "python",
   "nbconvert_exporter": "python",
   "pygments_lexer": "ipython3",
   "version": "3.12.3"
  }
 },
 "nbformat": 4,
 "nbformat_minor": 5
}
